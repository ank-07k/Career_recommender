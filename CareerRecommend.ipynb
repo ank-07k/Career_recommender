{
  "nbformat": 4,
  "nbformat_minor": 0,
  "metadata": {
    "colab": {
      "provenance": []
    },
    "kernelspec": {
      "name": "python3",
      "display_name": "Python 3"
    },
    "language_info": {
      "name": "python"
    }
  },
  "cells": [
    {
      "cell_type": "code",
      "execution_count": 21,
      "metadata": {
        "id": "ozITWUPBjwZj"
      },
      "outputs": [],
      "source": [
        "import numpy as np\n",
        "import pandas as pd\n",
        "import warnings\n",
        "warnings.filterwarnings('ignore')\n"
      ]
    },
    {
      "cell_type": "code",
      "source": [
        "ds = pd.read_csv('career_questions.csv')\n"
      ],
      "metadata": {
        "id": "kcbvyjfOnvKA"
      },
      "execution_count": 23,
      "outputs": []
    },
    {
      "cell_type": "code",
      "source": [
        "ds.iloc[0]"
      ],
      "metadata": {
        "colab": {
          "base_uri": "https://localhost:8080/",
          "height": 397
        },
        "id": "7QspYkqAn625",
        "outputId": "f27c9b58-3b1d-449c-f567-6e1530b5966e"
      },
      "execution_count": 24,
      "outputs": [
        {
          "output_type": "execute_result",
          "data": {
            "text/plain": [
              "QNo                                                    1\n",
              "Question       What interests you the most in computing?\n",
              "Answer A                           Building applications\n",
              "Careers A        Software Engineer, Full Stack Developer\n",
              "Answer B                           Analyzing data trends\n",
              "Careers B                  Data Scientist, Data Engineer\n",
              "Answer C                               Securing networks\n",
              "Careers C    Cybersecurity Analyst, System Administrator\n",
              "Answer D                       Designing user interfaces\n",
              "Careers D           UI/UX Designer, Mobile App Developer\n",
              "Name: 0, dtype: object"
            ],
            "text/html": [
              "<div>\n",
              "<style scoped>\n",
              "    .dataframe tbody tr th:only-of-type {\n",
              "        vertical-align: middle;\n",
              "    }\n",
              "\n",
              "    .dataframe tbody tr th {\n",
              "        vertical-align: top;\n",
              "    }\n",
              "\n",
              "    .dataframe thead th {\n",
              "        text-align: right;\n",
              "    }\n",
              "</style>\n",
              "<table border=\"1\" class=\"dataframe\">\n",
              "  <thead>\n",
              "    <tr style=\"text-align: right;\">\n",
              "      <th></th>\n",
              "      <th>0</th>\n",
              "    </tr>\n",
              "  </thead>\n",
              "  <tbody>\n",
              "    <tr>\n",
              "      <th>QNo</th>\n",
              "      <td>1</td>\n",
              "    </tr>\n",
              "    <tr>\n",
              "      <th>Question</th>\n",
              "      <td>What interests you the most in computing?</td>\n",
              "    </tr>\n",
              "    <tr>\n",
              "      <th>Answer A</th>\n",
              "      <td>Building applications</td>\n",
              "    </tr>\n",
              "    <tr>\n",
              "      <th>Careers A</th>\n",
              "      <td>Software Engineer, Full Stack Developer</td>\n",
              "    </tr>\n",
              "    <tr>\n",
              "      <th>Answer B</th>\n",
              "      <td>Analyzing data trends</td>\n",
              "    </tr>\n",
              "    <tr>\n",
              "      <th>Careers B</th>\n",
              "      <td>Data Scientist, Data Engineer</td>\n",
              "    </tr>\n",
              "    <tr>\n",
              "      <th>Answer C</th>\n",
              "      <td>Securing networks</td>\n",
              "    </tr>\n",
              "    <tr>\n",
              "      <th>Careers C</th>\n",
              "      <td>Cybersecurity Analyst, System Administrator</td>\n",
              "    </tr>\n",
              "    <tr>\n",
              "      <th>Answer D</th>\n",
              "      <td>Designing user interfaces</td>\n",
              "    </tr>\n",
              "    <tr>\n",
              "      <th>Careers D</th>\n",
              "      <td>UI/UX Designer, Mobile App Developer</td>\n",
              "    </tr>\n",
              "  </tbody>\n",
              "</table>\n",
              "</div><br><label><b>dtype:</b> object</label>"
            ]
          },
          "metadata": {},
          "execution_count": 24
        }
      ]
    },
    {
      "cell_type": "code",
      "source": [
        "#questions = pd.DataFrame(columns=['QNo','Career', 'Answer_A', 'Answer_B', 'Answer_C', 'Answer_D', 'Correct_Answer'])"
      ],
      "metadata": {
        "id": "DlnC66MZqwK-"
      },
      "execution_count": 20,
      "outputs": []
    },
    {
      "cell_type": "code",
      "source": [],
      "metadata": {
        "id": "XuG0yHxzkTaY"
      },
      "execution_count": null,
      "outputs": []
    },
    {
      "cell_type": "code",
      "source": [
        "questions=[]"
      ],
      "metadata": {
        "id": "Ngs6CqaxqnjS"
      },
      "execution_count": 32,
      "outputs": []
    },
    {
      "cell_type": "code",
      "source": [
        "def collect_question(i):\n",
        "    career_A = ds.iloc[i][\"Careers A\"].split(\", \")\n",
        "    career_B = ds.iloc[i][\"Careers B\"].split(\", \")\n",
        "    career_C = ds.iloc[i][\"Careers C\"].split(\", \")\n",
        "    career_D = ds.iloc[i][\"Careers D\"].split(\", \")\n",
        "    for career in career_A:\n",
        "        record = [i, career, 1, 0, 0, 0]\n",
        "        questions.append(record)\n",
        "    for career in career_B:\n",
        "        record = [i, career, 0, 1, 0, 0]\n",
        "        questions.append(record)\n",
        "    for career in career_C:\n",
        "        record = [i, career, 0, 0, 1, 0]\n",
        "        questions.append(record)\n",
        "    for career in career_C:\n",
        "        record = [i, career, 0, 0, 0, 1]\n",
        "        questions.append(record)"
      ],
      "metadata": {
        "id": "Wuh_-AuSkUUj"
      },
      "execution_count": 33,
      "outputs": []
    },
    {
      "cell_type": "code",
      "source": [
        "for i in range(len(ds)):\n",
        "  collect_questions(i)"
      ],
      "metadata": {
        "colab": {
          "base_uri": "https://localhost:8080/"
        },
        "id": "fvbZB_GVpY2t",
        "outputId": "1f834392-69f9-4cb6-d34e-1f76cba3dad6"
      },
      "execution_count": 36,
      "outputs": [
        {
          "output_type": "stream",
          "name": "stdout",
          "text": [
            "[0, 'Software Engineer', 1, 0, 0, 0]\n",
            "[0, 'Full Stack Developer', 1, 0, 0, 0]\n",
            "[1, 'Full Stack Developer', 1, 0, 0, 0]\n",
            "[1, 'Software Engineer', 1, 0, 0, 0]\n",
            "[2, 'Software Engineer', 1, 0, 0, 0]\n",
            "[2, 'Full Stack Developer', 1, 0, 0, 0]\n",
            "[3, 'AI/ML Engineer', 1, 0, 0, 0]\n",
            "[3, 'Software Engineer', 1, 0, 0, 0]\n",
            "[4, 'Full Stack Developer', 1, 0, 0, 0]\n",
            "[4, 'Mobile App Developer', 1, 0, 0, 0]\n",
            "[5, 'Software Engineer', 1, 0, 0, 0]\n",
            "[5, 'AI/ML Engineer', 1, 0, 0, 0]\n",
            "[6, 'Full Stack Developer', 1, 0, 0, 0]\n",
            "[6, 'Cloud Engineer', 1, 0, 0, 0]\n",
            "[7, 'Software Engineer', 1, 0, 0, 0]\n",
            "[7, 'Full Stack Developer', 1, 0, 0, 0]\n",
            "[8, 'Full Stack Developer', 1, 0, 0, 0]\n",
            "[8, 'Mobile App Developer', 1, 0, 0, 0]\n",
            "[9, 'Software Engineer', 1, 0, 0, 0]\n",
            "[9, 'DevOps Engineer', 1, 0, 0, 0]\n",
            "[10, 'Full Stack Developer', 1, 0, 0, 0]\n",
            "[10, 'Cloud Engineer', 1, 0, 0, 0]\n",
            "[11, 'Full Stack Developer', 1, 0, 0, 0]\n",
            "[11, 'Mobile App Developer', 1, 0, 0, 0]\n",
            "[12, 'Software Engineer', 1, 0, 0, 0]\n",
            "[12, 'Full Stack Developer', 1, 0, 0, 0]\n",
            "[13, 'AI/ML Engineer', 1, 0, 0, 0]\n",
            "[13, 'Data Scientist', 1, 0, 0, 0]\n",
            "[14, 'Software Engineer', 1, 0, 0, 0]\n",
            "[14, 'Full Stack Developer', 1, 0, 0, 0]\n",
            "[15, 'Software Engineer', 1, 0, 0, 0]\n",
            "[15, 'Full Stack Developer', 1, 0, 0, 0]\n",
            "[16, 'Full Stack Developer', 1, 0, 0, 0]\n",
            "[16, 'Software Engineer', 1, 0, 0, 0]\n",
            "[17, 'Full Stack Developer', 1, 0, 0, 0]\n",
            "[17, 'Software Engineer', 1, 0, 0, 0]\n",
            "[18, 'Software Engineer', 1, 0, 0, 0]\n",
            "[18, 'Full Stack Developer', 1, 0, 0, 0]\n",
            "[19, 'Software Engineer', 1, 0, 0, 0]\n",
            "[19, 'Full Stack Developer', 1, 0, 0, 0]\n"
          ]
        }
      ]
    },
    {
      "cell_type": "code",
      "source": [
        "questions = pd.DataFrame(questions, columns=['QNo','Career', 'Answer_A', 'Answer_B', 'Answer_C', 'Answer_D'])"
      ],
      "metadata": {
        "id": "exbGHTthrWZx"
      },
      "execution_count": 38,
      "outputs": []
    },
    {
      "cell_type": "code",
      "source": [
        "questions.to_csv(\"prepared_dataset.csv\")"
      ],
      "metadata": {
        "id": "-rqmqFihpsn0"
      },
      "execution_count": 40,
      "outputs": []
    },
    {
      "cell_type": "code",
      "source": [],
      "metadata": {
        "id": "Qbdam1Mzp_Re"
      },
      "execution_count": null,
      "outputs": []
    }
  ]
}